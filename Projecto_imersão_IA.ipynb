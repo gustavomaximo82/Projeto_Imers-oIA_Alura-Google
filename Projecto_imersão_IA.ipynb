{
  "cells": [
    {
      "cell_type": "markdown",
      "metadata": {
        "id": "view-in-github",
        "colab_type": "text"
      },
      "source": [
        "<a href=\"https://colab.research.google.com/github/gustavomaximo82/Projeto_Imers-oIA_Alura-Google/blob/main/Projecto_imers%C3%A3o_IA.ipynb\" target=\"_parent\"><img src=\"https://colab.research.google.com/assets/colab-badge.svg\" alt=\"Open In Colab\"/></a>"
      ]
    },
    {
      "cell_type": "code",
      "execution_count": 1,
      "metadata": {
        "colab": {
          "base_uri": "https://localhost:8080/"
        },
        "id": "0QQ1NTuNt7CK",
        "outputId": "3f0855f0-5788-406c-f722-b75f5a235e92"
      },
      "outputs": [
        {
          "output_type": "stream",
          "name": "stdout",
          "text": [
            "Requirement already satisfied: PyPDF2 in /usr/local/lib/python3.10/dist-packages (3.0.1)\n"
          ]
        }
      ],
      "source": [
        "!pip install -q -U google-generativeai\n",
        "!pip install PyPDF2"
      ]
    },
    {
      "cell_type": "code",
      "execution_count": 2,
      "metadata": {
        "id": "DXssnjQpt-os"
      },
      "outputs": [],
      "source": [
        "from pathlib import Path\n",
        "import PyPDF2\n",
        "import os\n",
        "\n",
        "# Import the Python SDK\n",
        "import google.generativeai as genai\n",
        "from google.colab import userdata\n",
        "api_key = userdata.get('SECRET_KEY')\n",
        "genai.configure(api_key = api_key)"
      ]
    },
    {
      "cell_type": "code",
      "execution_count": 3,
      "metadata": {
        "colab": {
          "base_uri": "https://localhost:8080/",
          "height": 138
        },
        "id": "HLpSFYHuuBbN",
        "outputId": "2d1aa195-f2e8-42a1-fc14-e0b6d9719d76"
      },
      "outputs": [
        {
          "output_type": "stream",
          "name": "stdout",
          "text": [
            "models/gemini-1.0-pro\n",
            "models/gemini-1.0-pro-001\n",
            "models/gemini-1.0-pro-latest\n",
            "models/gemini-1.0-pro-vision-latest\n",
            "models/gemini-1.5-pro-latest\n",
            "models/gemini-pro\n",
            "models/gemini-pro-vision\n"
          ]
        }
      ],
      "source": [
        "#Instalando o SDK do Google\n",
        "for m in genai.list_models():\n",
        "  if 'generateContent' in m.supported_generation_methods:\n",
        "    print(m.name)"
      ]
    },
    {
      "cell_type": "code",
      "execution_count": 4,
      "metadata": {
        "id": "M9vQNBRJuw5v"
      },
      "outputs": [],
      "source": [
        "# Configuração do modelo\n",
        "generation_config = {\n",
        "  \"candidate_count\": 1,\n",
        "  \"temperature\": 0.5,\n",
        "}\n",
        "\n",
        "safety_settings={\n",
        "    'HATE': 'BLOCK_NONE',\n",
        "    'HARASSMENT': 'BLOCK_NONE',\n",
        "    'SEXUAL' : 'BLOCK_NONE',\n",
        "    'DANGEROUS' : 'BLOCK_NONE'\n",
        "    }"
      ]
    },
    {
      "cell_type": "code",
      "execution_count": 5,
      "metadata": {
        "id": "m-U6P4cFu_mX"
      },
      "outputs": [],
      "source": [
        "# inicializando o modelo\n",
        "model = genai.GenerativeModel(model_name='gemini-1.0-pro',\n",
        "                                  generation_config=generation_config,\n",
        "                                  safety_settings=safety_settings,)"
      ]
    },
    {
      "cell_type": "code",
      "execution_count": 6,
      "metadata": {
        "id": "XPkfBtpXbANw"
      },
      "outputs": [],
      "source": [
        "# Função para ler arquivos pdf no diretório\n",
        "def list_files(directory):\n",
        "    file_list = []\n",
        "    for filename in os.listdir(directory):\n",
        "        file_path = os.path.join(directory, filename)\n",
        "        if os.path.isfile(file_path):\n",
        "            file_list.append(file_path)\n",
        "    return file_list"
      ]
    },
    {
      "cell_type": "code",
      "execution_count": 7,
      "metadata": {
        "colab": {
          "base_uri": "https://localhost:8080/"
        },
        "id": "c2PhgJuKbGJn",
        "outputId": "907f5945-62e1-4168-c709-954aa898737d"
      },
      "outputs": [
        {
          "output_type": "stream",
          "name": "stdout",
          "text": [
            "['/content/drive/MyDrive/ImersaoIA/NF1.pdf', '/content/drive/MyDrive/ImersaoIA/NF2.pdf', '/content/drive/MyDrive/ImersaoIA/NF3.pdf']\n"
          ]
        }
      ],
      "source": [
        "# Validação aruivos identificados\n",
        "arquivos = list_files(\"/content/drive/MyDrive/ImersaoIA\")\n",
        "print(arquivos)"
      ]
    },
    {
      "cell_type": "code",
      "execution_count": 8,
      "metadata": {
        "id": "8WED-MAiKQ8n"
      },
      "outputs": [],
      "source": [
        "# Função para extrair o texto de um arquivo PDF.\n",
        "def extract_text_from_pdf(pdf_path):\n",
        "    with open(pdf_path, 'rb') as pdf_file:\n",
        "        pdf_reader = PyPDF2.PdfReader(pdf_file)\n",
        "        text = \"\"\n",
        "        for page_num in range(len(pdf_reader.pages)):\n",
        "            page = pdf_reader.pages[page_num]\n",
        "            text += page.extract_text()\n",
        "    return text"
      ]
    },
    {
      "cell_type": "code",
      "execution_count": 9,
      "metadata": {
        "id": "oLWryHZKKZkd"
      },
      "outputs": [],
      "source": [
        "# Inicia um chat com o modelo.\n",
        "chat = model.start_chat(history=[])"
      ]
    },
    {
      "cell_type": "code",
      "execution_count": 10,
      "metadata": {
        "id": "rAQi_YIcKeXN"
      },
      "outputs": [],
      "source": [
        "# Extrai o texto do arquivo PDF.\n",
        "pdf_text = []\n",
        "for file in arquivos:\n",
        "  pdf_text.append(extract_text_from_pdf(file))\n",
        "\n",
        "numero_de_NFs = len(pdf_text)"
      ]
    },
    {
      "cell_type": "code",
      "execution_count": 11,
      "metadata": {
        "id": "JXRtyj4UKgPs",
        "colab": {
          "base_uri": "https://localhost:8080/",
          "height": 69
        },
        "outputId": "d1d89244-5fa8-4d21-8027-b7648109ad08"
      },
      "outputs": [
        {
          "output_type": "stream",
          "name": "stdout",
          "text": [
            "Nota fiscal 1 carregada\n",
            "Nota fiscal 2 carregada\n",
            "Nota fiscal 3 carregada\n"
          ]
        }
      ],
      "source": [
        "# Envia o texto do PDF para o modelo e obtém a resposta.\n",
        "for i in range(numero_de_NFs):\n",
        "  response = chat.send_message(f'Nota fiscal {i+1}: {pdf_text[i]}')\n",
        "  print(f'Nota fiscal {i+1} carregada')"
      ]
    },
    {
      "cell_type": "code",
      "source": [
        "# Calibração do modelo\n",
        "response = chat.send_message('Desconsidere os primeiros valores de data e hora encontrada no texto, que vem logo após o termo \"Nota Fiscal\". Busque o próximo valor de data e hora e classifique-o como data de emissão da nota fiscal')\n",
        "response = chat.send_message('Liste as notas ficais com as respectivas datas de emissão e ordene-as da mais antiga para a mais recente.')\n",
        "print(response.text)"
      ],
      "metadata": {
        "colab": {
          "base_uri": "https://localhost:8080/",
          "height": 156
        },
        "id": "ro4OK_KwJYUp",
        "outputId": "380e731e-436b-461a-b439-90c979618aef"
      },
      "execution_count": 12,
      "outputs": [
        {
          "output_type": "stream",
          "name": "stdout",
          "text": [
            "**Notas fiscais ordenadas da mais antiga para a mais recente:**\n",
            "\n",
            "1. **Nota fiscal 1:**\n",
            "    * Data de emissão: 06/02/2024 19:26:34\n",
            "2. **Nota fiscal 2:**\n",
            "    * Data de emissão: 11/02/2024 19:15:34\n",
            "3. **Nota fiscal 3:**\n",
            "    * Data de emissão: 29/03/2024 14:07:08\n"
          ]
        }
      ]
    },
    {
      "cell_type": "code",
      "source": [
        "# Calibração do modelo\n",
        "response = chat.send_message('Utilize sempre a seguinte lógica para validar seu modelo e garantir que você toma os valores unitários corretamente: Qtde x Vl. Unit. = Vl. Total')"
      ],
      "metadata": {
        "id": "cRKjdEoNbpeX"
      },
      "execution_count": 13,
      "outputs": []
    },
    {
      "cell_type": "code",
      "execution_count": 14,
      "metadata": {
        "colab": {
          "base_uri": "https://localhost:8080/",
          "height": 1000
        },
        "id": "6tHBnCjmMbBY",
        "outputId": "e95d40b1-4063-4ebb-bcc5-c18a8d184f8a"
      },
      "outputs": [
        {
          "output_type": "stream",
          "name": "stdout",
          "text": [
            "Esperando prompt: Organize as informações de cada uma das notas fiscais em uma tabela com o seguinte formato: Coluna 1 = Nome do supermercado Coluna 2 = Data da emissão Coluna 3 = Valor total da nota fiscal Considere no novo ordenamentodas notas fiscais e a instrução aprendida sobre as datas de emissão.\n",
            "## Resposta:\n",
            "\n",
            "| Nome do supermercado | Data da emissão | Valor total da nota fiscal |\n",
            "|---|---|---|\n",
            "| SENDAS DISTRIBUIDORA S/A | 29/03/2024 | R$ 1.999,75 |\n",
            "| ANGELONI CIA LTDA | 06/02/2024 | R$ 525,66 |\n",
            "| SENDAS DISTRIBUIDORA S/A | 11/02/2024 | R$ 1.541,99 |\n",
            "\n",
            "\n",
            "Esperando prompt: Organize a informação de cada uma das notas fiscais em tabelas separadas. As tabelas devem ter todas o seguinte formato: Coluna 1 = Nome do supermercado Coluna 2 = Data de emissão Coluna 3 = Produto Coluna 4 = Qtde Coluna 5 = Vl. Unit. Coluna 6 = UN Coluna 7 = Vl. Total\n",
            "_____________________________________________________________\n",
            "## Resposta:\n",
            "\n",
            "**Nota fiscal 1**\n",
            "\n",
            "| Nome do supermercado | Data de emissão | Produto | Qtde | Vl. Unit. | UN | Vl. Total |\n",
            "|---|---|---|---|---|---|---|\n",
            "| ANGELONI CIA LTDA | 06/02/2024 | OVO CAIPIRA ARES DO CAMPO GRANDE | 1 | 9,65 | UN | 9,65 |\n",
            "| ANGELONI CIA LTDA | 06/02/2024 | OVO CAIPIRA ARES DO CAMPO GRANDE | 1 | 9,65 | UN | 9,65 |\n",
            "| ANGELONI CIA LTDA | 06/02/2024 | OVO CAIPIRA ARES DO CAMPO GRANDE | 1 | 9,65 | UN | 9,65 |\n",
            "| ANGELONI CIA LTDA | 06/02/2024 | CARNE MOIDA ACEM BOV BEST BEEF ATM | 1 | 16,9 | UN | 16,90 |\n",
            "| ANGELONI CIA LTDA | 06/02/2024 | CARNE MOIDA ACEM BOV BEST BEEF ATM | 1 | 16,9 | UN | 16,90 |\n",
            "| ANGELONI CIA LTDA | 06/02/2024 | TOMATE IT ALIANO CHEFINHO MALLM SENN | 1 | 9,39 | UN | 9,39 |\n",
            "| ANGELONI CIA LTDA | 06/02/2024 | ALFACE PREMIER CRESP A BER TOLIN BJ | 1 | 9,75 | UN | 9,75 |\n",
            "| ANGELONI CIA LTDA | 06/02/2024 | ALFACE PREMIER CRESP A BER TOLIN BJ | 1 | 9,75 | UN | 9,75 |\n",
            "| ANGELONI CIA LTDA | 06/02/2024 | BANANA CATURRA KG PROMOCAO | 1,035 | 2,99 | UN | 3,09 |\n",
            "| ANGELONI CIA LTDA | 06/02/2024 | ALFACE PREMIER CRESP A BER TOLIN BJ | 1 | 9,75 | UN | 9,75 |\n",
            "| ANGELONI CIA LTDA | 06/02/2024 | KIWI IMPOR TADO KG | 0,895 | 24,99 | UN | 22,37 |\n",
            "| ANGELONI CIA LTDA | 06/02/2024 | AMEIXA GRANEL KG | 0,655 | 13,5 | UN | 8,84 |\n",
            "| ANGELONI CIA LTDA | 06/02/2024 | CHUCHU KG | 0,35 | 7,99 | UN | 2,80 |\n",
            "| ANGELONI CIA LTDA | 06/02/2024 | MARACUJA AZEDO KG | 1,215 | 17,99 | UN | 21,86 |\n",
            "| ANGELONI CIA LTDA | 06/02/2024 | ABÓBORA ANG SECA PEDACO KG | 0,882 | 8,39 | UN | 7,40 |\n",
            "| ANGELONI CIA LTDA | 06/02/2024 | SORVETE LOWKO AVELA CCHOCO PT | 1 | 44,9 | UN | 44,90 |\n",
            "| ANGELONI CIA LTDA | 06/02/2024 | SORVETE LOWKO AVELA CCHOCO PT | 1 | 44,9 | UN | 44,90 |\n",
            "| ANGELONI CIA LTDA | 06/02/2024 | LARANJA PERA LUCA TO PCT 3KG | 1 | 20,9 | UN | 20,90 |\n",
            "| ANGELONI CIA LTDA | 06/02/2024 | ALIM CAST A TAL DA CAST ANHA MIXED NUT | 1 | 22,9 | UN | 22,90 |\n",
            "| ANGELONI CIA LTDA | 06/02/2024 | ALIM CAST A TAL DA CAST ANHA MIXED NUT | 1 | 22,9 | UN | 22,90 |\n",
            "| ANGELONI CIA LTDA | 06/02/2024 | ALIM CAST A TAL DA CAST ANHA MIXED NUT | 1 | 22,9 | UN | 22,90 |\n",
            "| ANGELONI CIA LTDA | 06/02/2024 | ALIM CAST A TAL DA CAST ANHA MIXED NUT | 1 | 22,9 | UN | 22,90 |\n",
            "| ANGELONI CIA LTDA | 06/02/2024 | ALIM CAST A TAL DA CAST ANHA MIXED NUT | 1 | 22,9 | UN | 22,90 |\n",
            "| ANGELONI CIA LTDA | 06/02/2024 | ALIM CAST A TAL DA CAST ANH CHOCON ORG | 1 | 22,9 | UN | 22,90 |\n",
            "| ANGELONI CIA LTDA | 06/02/2024 | IOGUR TE VERDE CAMPO WHEY 14G MOR SL | 1 | 10,9 | UN | 10,90 |\n",
            "| ANGELONI CIA LTDA | 06/02/2024 | IOGUR TE VERDE CAMPO WHEY 14G MOR SL | 1 | 10,9 | UN | 10,90 |\n",
            "| ANGELONI CIA LTDA | 06/02/2024 | IOGUR TE VERDE CAMPO WHEY 21G COCO 250 | 1 | 12,9 | UN | 12,90 |\n",
            "| ANGELONI CIA LTDA | 06/02/2024 | IOGUR TE VERDE CAMPO WHEY 21G COCO 250 | 1 | 12,9 | UN | 12,90 |\n",
            "| ANGELONI CIA LTDA | 06/02/2024 | ADOCANTE SOSTEVIA DIET FR 65ML | 1 | 19,91 | UN | 19,90 |\n",
            "| ANGELONI CIA LTDA | 06/02/2024 | ALIM CAST A TAL DA CAST ANHA MIXED NUT | 1 | 22,9 | UN | 22,90 |\n",
            "| ANGELONI CIA LTDA | 06/02/2024 | ALIM CAST A TAL DA CAST ANHA MIXED NUT | 1 | 22,9 | UN | 22,90 |\n",
            "| ANGELONI CIA LTDA | 06/02/2024 | AGUA MINERAL AGUA PURA SGAS PET 5L | 1 | 7,29 | UN | 7,29 |\n",
            "| ANGELONI CIA LTDA | 06/02/2024 | AGUA MINERAL AGUA PURA SGAS PET 5L | 1 | 7,29 | UN | 7,29 |\n",
            "| ANGELONI CIA LTDA | 06/02/2024 | AGUA MINERAL AGUA PURA SGAS PET 5L | 1 | 7,29 | UN | 7,29 |\n",
            "| ANGELONI CIA LTDA | 06/02/2024 | AGUA MINERAL AGUA PURA SGAS PET 5L | 1 | 7,29 | UN | 7,29 |\n",
            "\n",
            "**Nota fiscal 2**\n",
            "\n",
            "| Nome do supermercado | Data de emissão | Produto | Qtde | Vl. Unit. | UN | Vl. Total |\n",
            "|---|---|---|---|---|---|---|\n",
            "| SENDAS DISTRIBUIDORA S/A | 11/02/2024 | COXAO MOLE BOV FC kg | 1,506 | 36,9 | UN | 55,57 |\n",
            "| SENDAS DISTRIBUIDORA S/A | 11/02/2024 | LING TOSC BIZINEL BJ | 0,986 | 18,9 | UN | 18,63 |\n",
            "| SENDAS DISTRIBUIDORA S/A | 11/02/2024 | COXAO MOLE BOV FC kg | 1,82 | 36,9 | UN | 67,15 |\n",
            "| SENDAS DISTRIBUIDORA S/A | 11/02/2024 | COXAO MOLE\n",
            "\n",
            "\n",
            "Esperando prompt: Identifique os produtos comuns nas notas fiscais 2 e 3. Crie uma tabela desses produtos com o seguinte formato: Coluna 1 = Produto Coluna 2 = Vl. Unit. correspondente à nota fiscal com data de emissão mais antiga Coluna 3 = Vl. Unit. correspondente à nota fiscal com data de emissão mais recente Coluna 4 = Variação percentual do Vl. Unit. entre as notas ficais, tomando a mais recente em relação à mais antiga\n",
            "_____________________________________________________________\n",
            "## Resposta:\n",
            "\n",
            "**Produtos comuns nas notas fiscais 2 e 3:**\n",
            "\n",
            "| Produto | Vl. Unit. (nota fiscal mais antiga) | Vl. Unit. (nota fiscal mais recente) | Variação percentual |\n",
            "|---|---|---|---|\n",
            "| COXAO MOLE BOV FC kg | 36,9 | 29,9 | -18,97% |\n",
            "| LING TOSC BIZINEL BJ | 18,9 | 29,9 | 58,15% |\n",
            "| CAR SU RESF CARRE kg | 15,9 | 15,9 | 0,00% |\n",
            "| IOG WHEY 21 250G MOR | 9,9 | 9,9 | 0,00% |\n",
            "| IOG BA TAVO 170G INT | 2,65 | 2,65 | 0,00% |\n",
            "| ACEM S/O BOV FC kg | 29,9 | 31,15 | 4,18% |\n",
            "| PATIN BOV MOID BJ kg | 42,9 | 42,9 | 0,00% |\n",
            "| ALFACE CRESP A | 2,99 | 2,99 | 0,00% |\n",
            "| LIMAO THAITI kg | 1,79 | 1,49 | -16,76% |\n",
            "| AGUA MINERAL AGUA PURA SGAS PET 5L | 7,29 | 7,29 | 0,00% |\n",
            "\n",
            "**Observação:** A variação percentual foi calculada usando a seguinte fórmula:\n",
            "\n",
            "```\n",
            "Variação percentual = ((Vl. Unit. mais recente - Vl. Unit. mais antiga) / Vl. Unit. mais antiga) * 100\n",
            "```\n",
            "\n",
            "\n",
            "Esperando prompt: fim\n",
            "_____________________________________________________________\n"
          ]
        }
      ],
      "source": [
        "# Inicia um loop que continua até que o usuário digite \"fim\".\n",
        "prompt = input('Esperando prompt: ')\n",
        "while prompt != \"fim\":\n",
        "  # Envia o prompt do usuário para o modelo e obtém a resposta.\n",
        "  response = chat.send_message(prompt)\n",
        "\n",
        "  # Imprime a resposta do modelo.\n",
        "  print(\"## Resposta:\\n\\n\" + response.text + '\\n\\n')\n",
        "\n",
        "  # Solicita um novo prompt do usuário.\n",
        "  prompt = input('Esperando prompt: ')\n",
        "  print(\"_____________________________________________________________\")"
      ]
    }
  ],
  "metadata": {
    "colab": {
      "provenance": [],
      "mount_file_id": "1z5UJ9bpbgeO9IdXUTzzrU70Tux9eh3Fx",
      "authorship_tag": "ABX9TyOzn4syOL/PuT1eBQVRo9de",
      "include_colab_link": true
    },
    "kernelspec": {
      "display_name": "Python 3",
      "name": "python3"
    },
    "language_info": {
      "name": "python"
    }
  },
  "nbformat": 4,
  "nbformat_minor": 0
}